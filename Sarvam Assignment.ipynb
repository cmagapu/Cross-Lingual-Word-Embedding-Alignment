{
 "cells": [
  {
   "cell_type": "code",
   "execution_count": 1,
   "id": "8808b768-f14e-4a61-9a17-83e2a2e64096",
   "metadata": {},
   "outputs": [
    {
     "name": "stdout",
     "output_type": "stream",
     "text": [
      "Requirement already satisfied: fasttext in /opt/anaconda3/lib/python3.12/site-packages (0.9.3)\n",
      "Requirement already satisfied: pybind11>=2.2 in /opt/anaconda3/lib/python3.12/site-packages (from fasttext) (2.13.6)\n",
      "Requirement already satisfied: setuptools>=0.7.0 in /opt/anaconda3/lib/python3.12/site-packages (from fasttext) (75.1.0)\n",
      "Requirement already satisfied: numpy in /opt/anaconda3/lib/python3.12/site-packages (from fasttext) (1.26.4)\n",
      "Requirement already satisfied: torch in /opt/anaconda3/lib/python3.12/site-packages (2.6.0)\n",
      "Requirement already satisfied: filelock in /opt/anaconda3/lib/python3.12/site-packages (from torch) (3.13.1)\n",
      "Requirement already satisfied: typing-extensions>=4.10.0 in /opt/anaconda3/lib/python3.12/site-packages (from torch) (4.11.0)\n",
      "Requirement already satisfied: networkx in /opt/anaconda3/lib/python3.12/site-packages (from torch) (3.3)\n",
      "Requirement already satisfied: jinja2 in /opt/anaconda3/lib/python3.12/site-packages (from torch) (3.1.4)\n",
      "Requirement already satisfied: fsspec in /opt/anaconda3/lib/python3.12/site-packages (from torch) (2024.6.1)\n",
      "Requirement already satisfied: setuptools in /opt/anaconda3/lib/python3.12/site-packages (from torch) (75.1.0)\n",
      "Requirement already satisfied: sympy==1.13.1 in /opt/anaconda3/lib/python3.12/site-packages (from torch) (1.13.1)\n",
      "Requirement already satisfied: mpmath<1.4,>=1.1.0 in /opt/anaconda3/lib/python3.12/site-packages (from sympy==1.13.1->torch) (1.3.0)\n",
      "Requirement already satisfied: MarkupSafe>=2.0 in /opt/anaconda3/lib/python3.12/site-packages (from jinja2->torch) (2.1.3)\n"
     ]
    }
   ],
   "source": [
    "# Install fasttext,torch if not already installed\n",
    "!pip install fasttext\n",
    "!pip install torch"
   ]
  },
  {
   "cell_type": "code",
   "execution_count": 2,
   "id": "1171d10c-92f2-470f-9b94-ce8206e2c0e0",
   "metadata": {},
   "outputs": [],
   "source": [
    "import numpy as np\n",
    "import fasttext\n",
    "import fasttext.util\n",
    "import os\n",
    "from collections import defaultdict\n",
    "from scipy.linalg import orthogonal_procrustes\n",
    "import matplotlib.pyplot as plt\n",
    "import torch\n",
    "import torch.nn as nn\n",
    "import torch.optim as optim"
   ]
  },
  {
   "cell_type": "markdown",
   "id": "de8d45a4-9c84-44b7-b29c-d7700a173472",
   "metadata": {},
   "source": [
    "# Data Preparation"
   ]
  },
  {
   "cell_type": "code",
   "execution_count": 4,
   "id": "70413223-5e74-4da8-97a7-b4fa135ba4a6",
   "metadata": {},
   "outputs": [
    {
     "name": "stdout",
     "output_type": "stream",
     "text": [
      "Downloading English fastText model...\n",
      "English model downloaded.\n",
      "Loading English model...\n",
      "English model loaded.\n",
      "English model download file deleted.\n",
      "Hindi model already exists.\n",
      "Loading Hindi model...\n",
      "Hindi model loaded.\n"
     ]
    }
   ],
   "source": [
    "# --- English Model ---\n",
    "en_model_path = 'cc.en.300.bin'\n",
    "if not os.path.exists(en_model_path):\n",
    "    print(\"Downloading English fastText model...\")\n",
    "    fasttext.util.download_model('en', if_exists='ignore')\n",
    "    os.rename('cc.en.300.bin', en_model_path)\n",
    "    print(\"English model downloaded.\")\n",
    "else:\n",
    "    print(\"English model already exists.\")\n",
    "\n",
    "print(\"Loading English model...\")\n",
    "en_model = fasttext.load_model(en_model_path)\n",
    "print(\"English model loaded.\")\n",
    "\n",
    "# Deleting the downloaded file to free up disk space\n",
    "if os.path.exists(en_model_path):\n",
    "    os.remove(en_model_path)\n",
    "    print(\"English model download file deleted.\")\n",
    "\n",
    "# --- Hindi Model ---\n",
    "hi_model_path = 'cc.hi.300.bin'\n",
    "if not os.path.exists(hi_model_path):\n",
    "    print(\"Downloading Hindi fastText model...\")\n",
    "    fasttext.util.download_model('hi', if_exists='ignore')\n",
    "    os.rename('cc.hi.300.bin', hi_model_path)\n",
    "    print(\"Hindi model downloaded.\")\n",
    "else:\n",
    "    print(\"Hindi model already exists.\")\n",
    "\n",
    "print(\"Loading Hindi model...\")\n",
    "hi_model = fasttext.load_model(hi_model_path)\n",
    "print(\"Hindi model loaded.\")"
   ]
  },
  {
   "cell_type": "code",
   "execution_count": 5,
   "id": "8dca1ef8-25d0-422a-8b1f-78e57459bd0b",
   "metadata": {},
   "outputs": [
    {
     "name": "stdout",
     "output_type": "stream",
     "text": [
      "Vector for 'hello': [ 0.15757619  0.04378209 -0.00451272  0.06659314  0.07703468]...\n",
      "Vector for 'राजकुमारी': [0.0275354  0.00600677 0.00590774 0.03287324 0.01008815]...\n"
     ]
    }
   ],
   "source": [
    "#Checking if we are able to get vectors from models\n",
    "english_word = \"hello\"\n",
    "hindi_word = \"राजकुमारी\"\n",
    "\n",
    "try:\n",
    "  english_vector = en_model.get_word_vector(english_word)\n",
    "  print(f\"Vector for '{english_word}': {english_vector[:5]}...\") # Print first 5 elements\n",
    "\n",
    "  hindi_vector = hi_model.get_word_vector(hindi_word)\n",
    "  print(f\"Vector for '{hindi_word}': {hindi_vector[:5]}...\") # Print first 5 elements\n",
    "\n",
    "except KeyError as e:\n",
    "    print(f\"Error: Word '{e}' not found in the model vocabulary.\")\n",
    "except Exception as e:\n",
    "    print(f\"An unexpected error occurred: {e}\")"
   ]
  },
  {
   "cell_type": "code",
   "execution_count": 6,
   "id": "fcea5a72-81bd-4aa5-a4d9-6ed2eb9509a9",
   "metadata": {},
   "outputs": [],
   "source": [
    "def extract_translation_pairs(filepath):\n",
    "    \"\"\"\n",
    "    Extracts word translation pairs from a MUSE dictionary file.\n",
    "\n",
    "    Args:\n",
    "        filepath (str): Path to the dictionary file.\n",
    "\n",
    "    Returns:\n",
    "        List[Tuple[str, str]]: List of (source_word, target_word) tuples.\n",
    "    \"\"\"\n",
    "    pairs = []\n",
    "    with open(filepath, 'r', encoding='utf-8') as f:\n",
    "        for line in f:\n",
    "            try:\n",
    "                source_word, target_word = line.strip().split()\n",
    "                pairs.append((source_word, target_word))\n",
    "            except ValueError:\n",
    "                continue\n",
    "    return pairs"
   ]
  },
  {
   "cell_type": "code",
   "execution_count": 7,
   "id": "70aa7d4d-8cb1-449e-a575-8218fc47f8d6",
   "metadata": {},
   "outputs": [
    {
     "name": "stdout",
     "output_type": "stream",
     "text": [
      "Extracted 38221 English-Hindi pairs.\n",
      "First 5 English-Hindi pairs: [('and', 'और'), ('was', 'था'), ('was', 'थी'), ('for', 'लिये'), ('that', 'उस')]\n"
     ]
    }
   ],
   "source": [
    "# Download the bilingual dictionaries (you can comment these if already downloaded)\n",
    "#!curl -Lo hi-en.txt https://dl.fbaipublicfiles.com/arrival/dictionaries/hi-en.txt\n",
    "#!curl -Lo en-hi.txt https://dl.fbaipublicfiles.com/arrival/dictionaries/en-hi.txt\n",
    "\n",
    "# Extract word pairs (here using English to Hindi pairs)\n",
    "en_hi_pairs = extract_translation_pairs('en-hi.txt')\n",
    "\n",
    "print(f\"Extracted {len(en_hi_pairs)} English-Hindi pairs.\")\n",
    "print(\"First 5 English-Hindi pairs:\", en_hi_pairs[:5])"
   ]
  },
  {
   "cell_type": "code",
   "execution_count": 8,
   "id": "f71a8834-78be-4276-ac4e-e51a3e7ad22f",
   "metadata": {},
   "outputs": [],
   "source": [
    "def align_embeddings(src_embeddings, tgt_embeddings):\n",
    "    \"\"\"\n",
    "    Aligns source embeddings to target embeddings using Orthogonal Procrustes.\n",
    "\n",
    "    Args:\n",
    "        src_embeddings (np.ndarray): Source word embeddings (n x d).\n",
    "        tgt_embeddings (np.ndarray): Target word embeddings (n x d).\n",
    "\n",
    "    Returns:\n",
    "        Tuple[np.ndarray, np.ndarray]: (Aligned source embeddings, rotation matrix)\n",
    "    \"\"\"\n",
    "    # Find rotation matrix to map source embeddings to target space.\n",
    "    rotation, _ = orthogonal_procrustes(src_embeddings, tgt_embeddings)\n",
    "    aligned_src_embeddings = np.dot(src_embeddings, rotation)\n",
    "    return aligned_src_embeddings, rotation"
   ]
  },
  {
   "cell_type": "markdown",
   "id": "4587c598-e1c0-40ee-8fdb-0e26771b19c5",
   "metadata": {},
   "source": [
    "# Embedding Alignment"
   ]
  },
  {
   "cell_type": "code",
   "execution_count": 10,
   "id": "98927bab-f38a-4742-9692-f35f7a885df5",
   "metadata": {},
   "outputs": [
    {
     "name": "stdout",
     "output_type": "stream",
     "text": [
      "Alignment completed.\n"
     ]
    }
   ],
   "source": [
    "# Prepare embeddings for the bilingual lexicon (using English-Hindi pairs)\n",
    "english_embeddings = np.array([\n",
    "    en_model.get_word_vector(en_word) for en_word, hi_word in en_hi_pairs\n",
    "])\n",
    "hindi_embeddings = np.array([\n",
    "    hi_model.get_word_vector(hi_word) for en_word, hi_word in en_hi_pairs\n",
    "])\n",
    "\n",
    "# Align English embeddings into Hindi space.\n",
    "aligned_english_embeddings, rotation_matrix = align_embeddings(english_embeddings, hindi_embeddings)\n",
    "print(\"Alignment completed.\")"
   ]
  },
  {
   "cell_type": "markdown",
   "id": "6857c9a3-2bfc-497c-be8b-cef81f51d842",
   "metadata": {},
   "source": [
    "# Evaluation"
   ]
  },
  {
   "cell_type": "code",
   "execution_count": 12,
   "id": "442eb311-f4c3-4ac3-a67a-2074fb2b5418",
   "metadata": {},
   "outputs": [],
   "source": [
    "def normalize_embeddings(embeddings):\n",
    "    \"\"\"\n",
    "    Normalize word embeddings to unit vectors (for cosine similarity).\n",
    "\n",
    "    Args:\n",
    "        embeddings (np.ndarray): Embedding matrix of shape (n, d).\n",
    "\n",
    "    Returns:\n",
    "        np.ndarray: Normalized embedding matrix.\n",
    "    \"\"\"\n",
    "    norms = np.linalg.norm(embeddings, axis=1, keepdims=True)\n",
    "    return embeddings / norms\n",
    "\n",
    "def get_top_k_neighbors(query_vector, tgt_embeddings, tgt_words, k=5):\n",
    "    \"\"\"\n",
    "    Finds the top-k nearest neighbors using cosine similarity.\n",
    "\n",
    "    Args:\n",
    "        query_vector (np.ndarray): Aligned embedding vector for a source word.\n",
    "        tgt_embeddings (np.ndarray): Normalized target embedding matrix (n x d).\n",
    "        tgt_words (List[str]): List of target words.\n",
    "        k (int): Number of neighbors to return.\n",
    "\n",
    "    Returns:\n",
    "        List[str]: List of top-k nearest target words.\n",
    "    \"\"\"\n",
    "    query_norm = query_vector / np.linalg.norm(query_vector)\n",
    "    similarities = np.dot(tgt_embeddings, query_norm)\n",
    "    top_k_indices = np.argsort(-similarities)[:k]\n",
    "    return [tgt_words[i] for i in top_k_indices]\n",
    "\n",
    "def evaluate_translation(\n",
    "    translation_pairs,\n",
    "    en_model,\n",
    "    hi_model,\n",
    "    rotation_matrix,\n",
    "    top_k=[1, 5],\n",
    "    max_vocab_size=50000,\n",
    "    verbose=True\n",
    "):\n",
    "    \"\"\"\n",
    "    Evaluates translation accuracy using a test dictionary and aligned embeddings.\n",
    "\n",
    "    Args:\n",
    "        translation_pairs (List[Tuple[str, str]]): Test (English, Hindi) word pairs.\n",
    "        en_model (FastText model): Pre-trained English FastText model.\n",
    "        hi_model (FastText model): Pre-trained Hindi FastText model.\n",
    "        rotation_matrix (np.ndarray): Mapping from English to Hindi embedding space.\n",
    "        top_k (List[int]): Values of 'k' for Precision@k.\n",
    "        max_vocab_size (int): Limit the size of the Hindi vocabulary to search.\n",
    "        verbose (bool): Whether to print progress during evaluation.\n",
    "\n",
    "    Returns:\n",
    "        Dict[int, float]: Precision@k scores.\n",
    "    \"\"\"\n",
    "    correct_at_k = defaultdict(int)\n",
    "    total = 0\n",
    "\n",
    "    # Prepare Hindi vocab\n",
    "    hi_vocab = hi_model.get_words(include_freq=False)[:max_vocab_size]\n",
    "    hi_embeddings = np.array([hi_model.get_word_vector(w) for w in hi_vocab])\n",
    "    hi_embeddings_norm = hi_embeddings / np.linalg.norm(hi_embeddings, axis=1, keepdims=True)\n",
    "\n",
    "    for idx, (en_word, hi_word) in enumerate(translation_pairs):\n",
    "        try:\n",
    "            # Align English word into Hindi space\n",
    "            en_vec = en_model.get_word_vector(en_word)\n",
    "            aligned_vec = np.dot(en_vec, rotation_matrix)\n",
    "\n",
    "            # Normalize aligned vector\n",
    "            aligned_norm = aligned_vec / np.linalg.norm(aligned_vec)\n",
    "\n",
    "            # Cosine similarities = dot product (because all are normalized)\n",
    "            sims = np.dot(hi_embeddings_norm, aligned_norm)\n",
    "\n",
    "            # Top-k predictions\n",
    "            top_indices = np.argsort(-sims)[:max(top_k)]\n",
    "            top_predictions = [hi_vocab[i] for i in top_indices]\n",
    "\n",
    "            for k_val in top_k:\n",
    "                if hi_word in top_predictions[:k_val]:\n",
    "                    correct_at_k[k_val] += 1\n",
    "\n",
    "            total += 1\n",
    "\n",
    "            # Progress output\n",
    "            #if verbose and (idx + 1) % 100 == 0:\n",
    "                #print(f\"Evaluated {idx + 1} / {len(translation_pairs)} words...\")\n",
    "\n",
    "        except Exception as e:\n",
    "            continue  # Skip OOV or errors\n",
    "\n",
    "    precision_scores = {k: correct_at_k[k] / total for k in top_k}\n",
    "    #if verbose:\n",
    "        #print(f\"\\n Evaluation complete on {total} word pairs.\")\n",
    "    return precision_scores"
   ]
  },
  {
   "cell_type": "code",
   "execution_count": 13,
   "id": "da00b2d0-68fa-4f62-aebd-c75c106f30a0",
   "metadata": {},
   "outputs": [
    {
     "name": "stdout",
     "output_type": "stream",
     "text": [
      "Precision@1: 0.1659\n",
      "Precision@5: 0.3073\n"
     ]
    }
   ],
   "source": [
    "# Evaluate using the English-Hindi test pairs\n",
    "scores = evaluate_translation(\n",
    "    translation_pairs=en_hi_pairs,\n",
    "    en_model=en_model,\n",
    "    hi_model=hi_model,\n",
    "    rotation_matrix=rotation_matrix,\n",
    "    top_k=[1, 5]\n",
    ")\n",
    "\n",
    "print(f\"Precision@1: {scores[1]:.4f}\")\n",
    "print(f\"Precision@5: {scores[5]:.4f}\")"
   ]
  },
  {
   "cell_type": "markdown",
   "id": "fa0038f9-2e80-4242-bbd6-3f6d68470704",
   "metadata": {},
   "source": [
    "**This means that**:\n",
    "\n",
    "In about 16.6% of test cases, the top predicted Hindi word was the correct translation.\n",
    "\n",
    "In about 30.7% of cases, the correct Hindi translation appeared within the top 5 predictions.\n",
    "\n",
    "These values may appear modest at first glance, but they are consistent with results reported in literature for distant language pairs like English–Hindi using unsupervised monolingual embeddings.\n",
    "\n",
    "The relatively low Precision@1 reflects the inherent difficulty of aligning independently trained word embeddings from these two typologically different languages using a linear transformation method like Procrustes.\n",
    "\n",
    "Precision@5 shows that the correct translation is often among the top candidates, indicating that the alignment is *semantically meaningful*, even if exact matches are not always ranked first."
   ]
  },
  {
   "cell_type": "code",
   "execution_count": 15,
   "id": "415d4d65-2104-4a6c-a452-0813affa10c8",
   "metadata": {},
   "outputs": [],
   "source": [
    "def run_ablation_study(pair_list, en_model, hi_model, test_pairs, sizes=[5000, 10000, 20000]):\n",
    "    \"\"\"\n",
    "    Runs an ablation study on bilingual lexicon sizes for supervised alignment.\n",
    "\n",
    "    Args:\n",
    "        pair_list (List[Tuple[str, str]]): Full bilingual lexicon (training pairs).\n",
    "        en_model (FastText model): Pretrained English FastText model.\n",
    "        hi_model (FastText model): Pretrained Hindi FastText model.\n",
    "        test_pairs (List[Tuple[str, str]]): Test pairs for evaluation.\n",
    "        sizes (List[int]): Lexicon sizes to try.\n",
    "\n",
    "    Returns:\n",
    "        Dict[int, Dict[int, float]]: Dictionary mapping lexicon size to precision scores.\n",
    "    \"\"\"\n",
    "    results = {}\n",
    "\n",
    "    for size in sizes:\n",
    "        print(f\"\\n Running alignment with {size} training pairs...\")\n",
    "\n",
    "        # Limit training data\n",
    "        train_subset = pair_list[:size]\n",
    "\n",
    "        # Extract embeddings\n",
    "        try:\n",
    "            en_train_embeds = np.array([en_model.get_word_vector(e) for e, h in train_subset])\n",
    "            hi_train_embeds = np.array([hi_model.get_word_vector(h) for e, h in train_subset])\n",
    "        except Exception as e:\n",
    "            print(f\"Skipping size {size} due to embedding error: {e}\")\n",
    "            continue\n",
    "\n",
    "        # Align\n",
    "        aligned_embeds, rotation = align_embeddings(en_train_embeds, hi_train_embeds)\n",
    "\n",
    "        # Evaluate\n",
    "        precision_scores = evaluate_translation(\n",
    "            translation_pairs=test_pairs,\n",
    "            en_model=en_model,\n",
    "            hi_model=hi_model,\n",
    "            rotation_matrix=rotation,\n",
    "            top_k=[1, 5]\n",
    "        )\n",
    "\n",
    "        print(f\"Lexicon size {size}: P@1 = {precision_scores[1]:.4f}, P@5 = {precision_scores[5]:.4f}\")\n",
    "        results[size] = precision_scores\n",
    "\n",
    "    return results\n",
    "\n",
    "def plot_ablation_results(results_dict):\n",
    "    sizes = sorted(results_dict.keys())\n",
    "    p1_scores = [results_dict[s][1] for s in sizes]\n",
    "    p5_scores = [results_dict[s][5] for s in sizes]\n",
    "\n",
    "    plt.figure(figsize=(8, 5))\n",
    "    plt.plot(sizes, p1_scores, marker='o', label='Precision@1')\n",
    "    plt.plot(sizes, p5_scores, marker='s', label='Precision@5')\n",
    "    plt.title(\"Ablation Study: Impact of Lexicon Size on Alignment Quality\")\n",
    "    plt.xlabel(\"Lexicon Size\")\n",
    "    plt.ylabel(\"Precision\")\n",
    "    plt.legend()\n",
    "    plt.grid(True)\n",
    "    plt.savefig(\"ablation_study.jpg\")\n",
    "    plt.show()"
   ]
  },
  {
   "cell_type": "code",
   "execution_count": 16,
   "id": "247bd07b-d49f-408d-b4fa-343d74dc5570",
   "metadata": {},
   "outputs": [
    {
     "name": "stdout",
     "output_type": "stream",
     "text": [
      "\n",
      " Running alignment with 5000 training pairs...\n",
      "Lexicon size 5000: P@1 = 0.1259, P@5 = 0.2534\n",
      "\n",
      " Running alignment with 10000 training pairs...\n",
      "Lexicon size 10000: P@1 = 0.1483, P@5 = 0.2867\n",
      "\n",
      " Running alignment with 20000 training pairs...\n",
      "Lexicon size 20000: P@1 = 0.1638, P@5 = 0.3025\n",
      "Lexicon size 5000 → P@1: 0.1259, P@5: 0.2534\n",
      "Lexicon size 10000 → P@1: 0.1483, P@5: 0.2867\n",
      "Lexicon size 20000 → P@1: 0.1638, P@5: 0.3025\n"
     ]
    }
   ],
   "source": [
    "ablation_results = run_ablation_study(\n",
    "    pair_list=en_hi_pairs,\n",
    "    en_model=en_model,\n",
    "    hi_model=hi_model,\n",
    "    test_pairs=en_hi_pairs,  # or use a dedicated test set\n",
    "    sizes=[5000, 10000, 20000]\n",
    ")\n",
    "\n",
    "# Print results clearly\n",
    "for size, scores in ablation_results.items():\n",
    "    print(f\"Lexicon size {size} → P@1: {scores[1]:.4f}, P@5: {scores[5]:.4f}\")"
   ]
  },
  {
   "cell_type": "code",
   "execution_count": 17,
   "id": "d7fbf2ba-b390-442c-9a50-2fbfcc3336f4",
   "metadata": {},
   "outputs": [
    {
     "data": {
      "image/png": "[encoded data removed]",
      "text/plain": [
       "<Figure size 800x500 with 1 Axes>"
      ]
     },
     "metadata": {},
     "output_type": "display_data"
    },
    {
     "data": {
      "text/plain": [
       "<Figure size 640x480 with 0 Axes>"
      ]
     },
     "metadata": {},
     "output_type": "display_data"
    }
   ],
   "source": [
    "# Plot the results\n",
    "plot_ablation_results(ablation_results)\n",
    "plt.savefig(\"ablation_study.png\")"
   ]
  },
  {
   "cell_type": "markdown",
   "id": "95d2986c-f19e-4ca8-8bff-eb99cbad49b3",
   "metadata": {},
   "source": [
    "Increasing the size of the training lexicon consistently improves both Precision@1 and Precision@5.\n",
    "\n",
    "The most significant gain occurs when moving from 5k to 10k pairs, suggesting that a moderately sized bilingual dictionary already captures much of the necessary structure for alignment.\n",
    "\n",
    "The improvements begin to plateau between 10k and 20k, indicating diminishing returns for larger dictionaries.\n",
    "\n",
    "This trend highlights the practical trade-off between annotation cost (or lexicon availability) and alignment quality — and motivates the use of unsupervised methods when large dictionaries aren't available."
   ]
  },
  {
   "cell_type": "markdown",
   "id": "4e245192-e545-43a2-ab77-3df59f659cb4",
   "metadata": {},
   "source": [
    "# Unsupervised Alignment (extra credit) "
   ]
  },
  {
   "cell_type": "code",
   "execution_count": 20,
   "id": "85291ba4-4d46-41d0-a550-f5275adc9f04",
   "metadata": {},
   "outputs": [
    {
     "name": "stdout",
     "output_type": "stream",
     "text": [
      "Using device: cpu\n"
     ]
    }
   ],
   "source": [
    "# Set manual seed for reproducibility\n",
    "torch.manual_seed(42)\n",
    "\n",
    "# Device config\n",
    "device = torch.device(\"cuda\" if torch.cuda.is_available() else \"cpu\")\n",
    "print(\"Using device:\", device)\n",
    "\n",
    "# Mapping W: learnable orthogonal matrix (initialized as identity)\n",
    "class Generator(nn.Module):\n",
    "    def __init__(self, dim):\n",
    "        super(Generator, self).__init__()\n",
    "        self.W = nn.Linear(dim, dim, bias=False)\n",
    "        self.W.weight.data.copy_(torch.eye(dim))  # Start as identity\n",
    "\n",
    "    def forward(self, x):\n",
    "        return self.W(x)\n",
    "\n",
    "# Discriminator D: binary classifier to distinguish real/fake\n",
    "class Discriminator(nn.Module):\n",
    "    def __init__(self, dim):\n",
    "        super(Discriminator, self).__init__()\n",
    "        self.model = nn.Sequential(\n",
    "            nn.Linear(dim, 2048),\n",
    "            nn.LeakyReLU(0.2),\n",
    "            nn.Linear(2048, 2048),\n",
    "            nn.LeakyReLU(0.2),\n",
    "            nn.Linear(2048, 1),\n",
    "            nn.Sigmoid()\n",
    "        )\n",
    "\n",
    "    def forward(self, x):\n",
    "        return self.model(x)"
   ]
  },
  {
   "cell_type": "code",
   "execution_count": 21,
   "id": "cede0ff5-a18d-4aff-af76-b802e72c408e",
   "metadata": {},
   "outputs": [],
   "source": [
    "def load_and_normalize_embeddings(ft_model, max_vocab=50000):\n",
    "    \"\"\"\n",
    "    Loads and normalizes FastText embeddings from a pretrained model.\n",
    "\n",
    "    Args:\n",
    "        ft_model: A loaded fastText model (English or Hindi).\n",
    "        max_vocab (int): Maximum number of most frequent words to load.\n",
    "\n",
    "    Returns:\n",
    "        embeddings (torch.Tensor): Normalized embeddings (n_words x dim).\n",
    "        vocab (List[str]): Corresponding word list.\n",
    "    \"\"\"\n",
    "    vocab = ft_model.get_words(include_freq=False)[:max_vocab]\n",
    "    embeddings = np.array([ft_model.get_word_vector(w) for w in vocab])\n",
    "    norms = np.linalg.norm(embeddings, axis=1, keepdims=True)\n",
    "    normalized = embeddings / norms\n",
    "    return torch.tensor(normalized, dtype=torch.float32).to(device), vocab"
   ]
  },
  {
   "cell_type": "code",
   "execution_count": 22,
   "id": "b1704e08-7a9f-420c-a5c9-e31465567a0c",
   "metadata": {},
   "outputs": [
    {
     "name": "stdout",
     "output_type": "stream",
     "text": [
      "English embedding shape: torch.Size([50000, 300])\n",
      "Hindi embedding shape: torch.Size([50000, 300])\n"
     ]
    }
   ],
   "source": [
    "# Load and normalize top 50k English and Hindi embeddings\n",
    "en_embeddings, en_vocab = load_and_normalize_embeddings(en_model, max_vocab=50000)\n",
    "hi_embeddings, hi_vocab = load_and_normalize_embeddings(hi_model, max_vocab=50000)\n",
    "\n",
    "print(\"English embedding shape:\", en_embeddings.shape)\n",
    "print(\"Hindi embedding shape:\", hi_embeddings.shape)"
   ]
  },
  {
   "cell_type": "code",
   "execution_count": 23,
   "id": "031c5932-cf97-4511-a1fe-7b2e35422154",
   "metadata": {},
   "outputs": [],
   "source": [
    "def adversarial_train_loop(\n",
    "    src_embeddings, tgt_embeddings,\n",
    "    generator, discriminator,\n",
    "    num_epochs=10, batch_size=128,\n",
    "    d_steps=5, lr_g=0.1, lr_d=0.1\n",
    "):\n",
    "    \"\"\"\n",
    "    Runs adversarial training to learn a mapping from source to target space.\n",
    "    \n",
    "    Args:\n",
    "        src_embeddings (torch.Tensor): English embeddings (n x d).\n",
    "        tgt_embeddings (torch.Tensor): Hindi embeddings (n x d).\n",
    "        generator (nn.Module): The mapping (W).\n",
    "        discriminator (nn.Module): The binary classifier (D).\n",
    "        num_epochs (int): Number of training epochs.\n",
    "        batch_size (int): Batch size for both D and G.\n",
    "        d_steps (int): Number of discriminator steps per generator step.\n",
    "        lr_g (float): Learning rate for generator.\n",
    "        lr_d (float): Learning rate for discriminator.\n",
    "        \n",
    "    Returns:\n",
    "        generator (nn.Module): Trained generator (mapping W).\n",
    "    \"\"\"\n",
    "    # Use SGD optimizers without weight decay or gradient penalty.\n",
    "    g_opt = torch.optim.SGD(generator.parameters(), lr=lr_g)\n",
    "    d_opt = torch.optim.SGD(discriminator.parameters(), lr=lr_d)\n",
    "    loss_fn = nn.BCELoss()\n",
    "\n",
    "    n = src_embeddings.shape[0]\n",
    "\n",
    "    for epoch in range(num_epochs):\n",
    "        generator.train()\n",
    "        discriminator.train()\n",
    "        perm = torch.randperm(n)\n",
    "\n",
    "        for i in range(0, n, batch_size):\n",
    "            # Sample a batch of target (Hindi) embeddings.\n",
    "            batch_indices = perm[i:i+batch_size]\n",
    "            real_tgt = tgt_embeddings[batch_indices].to(device)\n",
    "\n",
    "            # Sample corresponding source (English) embeddings and generate fake target embeddings.\n",
    "            real_src = src_embeddings[batch_indices].to(device)\n",
    "            fake_tgt = generator(real_src).detach()\n",
    "\n",
    "            # --- Train Discriminator ---\n",
    "            d_real_preds = discriminator(real_tgt)\n",
    "            d_fake_preds = discriminator(fake_tgt)\n",
    "\n",
    "            d_loss_real = loss_fn(d_real_preds, torch.ones_like(d_real_preds))\n",
    "            d_loss_fake = loss_fn(d_fake_preds, torch.zeros_like(d_fake_preds))\n",
    "            d_loss = d_loss_real + d_loss_fake\n",
    "\n",
    "            d_opt.zero_grad()\n",
    "            d_loss.backward()\n",
    "            d_opt.step()\n",
    "\n",
    "            # --- Train Generator (to fool the discriminator) ---\n",
    "            fake_tgt = generator(real_src)\n",
    "            preds = discriminator(fake_tgt)\n",
    "            g_loss = loss_fn(preds, torch.ones_like(preds))\n",
    "\n",
    "            g_opt.zero_grad()\n",
    "            g_loss.backward()\n",
    "            g_opt.step()\n",
    "\n",
    "        print(f\"Epoch {epoch+1}/{num_epochs} | D Loss: {d_loss.item():.4f} | G Loss: {g_loss.item():.4f}\")\n",
    "\n",
    "    return generator"
   ]
  },
  {
   "cell_type": "code",
   "execution_count": 24,
   "id": "baea71f4-d985-4a94-b341-f857c5592900",
   "metadata": {},
   "outputs": [
    {
     "name": "stdout",
     "output_type": "stream",
     "text": [
      "Seed-based mapping computed.\n"
     ]
    }
   ],
   "source": [
    "# Seed dictionary (first 500 pairs)\n",
    "seed_size = 500\n",
    "seed_pairs = en_hi_pairs[:seed_size]\n",
    "filtered_test_pairs = [pair for pair in en_hi_pairs if pair not in seed_pairs]\n",
    "\n",
    "# Extract English and Hindi vectors for the seed pairs\n",
    "en_seed_vectors = np.array([en_model.get_word_vector(en_word) for en_word, hi_word in seed_pairs])\n",
    "hi_seed_vectors = np.array([hi_model.get_word_vector(hi_word) for en_word, hi_word in seed_pairs])\n",
    "\n",
    "# Normalize the vectors\n",
    "en_seed_vectors = en_seed_vectors / np.linalg.norm(en_seed_vectors, axis=1, keepdims=True)\n",
    "hi_seed_vectors = hi_seed_vectors / np.linalg.norm(hi_seed_vectors, axis=1, keepdims=True)\n",
    "\n",
    "# Compute the initial mapping using Procrustes\n",
    "_, seed_R = align_embeddings(en_seed_vectors, hi_seed_vectors)\n",
    "print(\"Seed-based mapping computed.\")"
   ]
  },
  {
   "cell_type": "code",
   "execution_count": 33,
   "id": "27de48a5-03e8-4f8b-baec-1c5c2cafa6b7",
   "metadata": {},
   "outputs": [
    {
     "name": "stdout",
     "output_type": "stream",
     "text": [
      "Generator initialized with seed-based mapping.\n",
      "Epoch 1/40 | D Loss: 0.7572 | G Loss: 1.1990\n",
      "Epoch 2/40 | D Loss: 1.4505 | G Loss: 0.6846\n",
      "Epoch 3/40 | D Loss: 1.2498 | G Loss: 0.7959\n",
      "Epoch 4/40 | D Loss: 1.4514 | G Loss: 0.6609\n",
      "Epoch 5/40 | D Loss: 1.2802 | G Loss: 0.7517\n",
      "Epoch 6/40 | D Loss: 1.3685 | G Loss: 0.7126\n",
      "Epoch 7/40 | D Loss: 1.3505 | G Loss: 0.7235\n",
      "Epoch 8/40 | D Loss: 1.2849 | G Loss: 0.7576\n",
      "Epoch 9/40 | D Loss: 1.2326 | G Loss: 0.7950\n",
      "Epoch 10/40 | D Loss: 1.1784 | G Loss: 0.8140\n",
      "Epoch 11/40 | D Loss: 1.1383 | G Loss: 1.3743\n",
      "Epoch 12/40 | D Loss: 1.0583 | G Loss: 1.5690\n",
      "Epoch 13/40 | D Loss: 1.2431 | G Loss: 1.5279\n",
      "Epoch 14/40 | D Loss: 1.2126 | G Loss: 1.4196\n",
      "Epoch 15/40 | D Loss: 1.1691 | G Loss: 1.4571\n",
      "Epoch 16/40 | D Loss: 1.1788 | G Loss: 1.5067\n",
      "Epoch 17/40 | D Loss: 1.1320 | G Loss: 1.3645\n",
      "Epoch 18/40 | D Loss: 1.1987 | G Loss: 1.4065\n",
      "Epoch 19/40 | D Loss: 1.1848 | G Loss: 1.4232\n",
      "Epoch 20/40 | D Loss: 1.2060 | G Loss: 1.4561\n",
      "Epoch 21/40 | D Loss: 1.1433 | G Loss: 1.4294\n",
      "Epoch 22/40 | D Loss: 1.1743 | G Loss: 1.4686\n",
      "Epoch 23/40 | D Loss: 1.2413 | G Loss: 1.5366\n",
      "Epoch 24/40 | D Loss: 1.2085 | G Loss: 1.4051\n",
      "Epoch 25/40 | D Loss: 1.1579 | G Loss: 1.4353\n",
      "Epoch 26/40 | D Loss: 1.1901 | G Loss: 1.4620\n",
      "Epoch 27/40 | D Loss: 1.2063 | G Loss: 1.5093\n",
      "Epoch 28/40 | D Loss: 1.1799 | G Loss: 1.4475\n",
      "Epoch 29/40 | D Loss: 1.1558 | G Loss: 1.4767\n",
      "Epoch 30/40 | D Loss: 1.1775 | G Loss: 1.5388\n",
      "Epoch 31/40 | D Loss: 1.1792 | G Loss: 1.4286\n",
      "Epoch 32/40 | D Loss: 1.2080 | G Loss: 1.5414\n",
      "Epoch 33/40 | D Loss: 1.1568 | G Loss: 1.4863\n",
      "Epoch 34/40 | D Loss: 1.2043 | G Loss: 1.4502\n",
      "Epoch 35/40 | D Loss: 1.1834 | G Loss: 1.4843\n",
      "Epoch 36/40 | D Loss: 1.2234 | G Loss: 1.5615\n",
      "Epoch 37/40 | D Loss: 1.1713 | G Loss: 1.4339\n",
      "Epoch 38/40 | D Loss: 1.1688 | G Loss: 1.4471\n",
      "Epoch 39/40 | D Loss: 1.1259 | G Loss: 1.3893\n",
      "Epoch 40/40 | D Loss: 1.2435 | G Loss: 1.5734\n"
     ]
    }
   ],
   "source": [
    "# Initialize generator (mapping W) and discriminator with appropriate dimension (300)\n",
    "dim = 300\n",
    "generator = Generator(dim).to(device)\n",
    "discriminator = Discriminator(dim).to(device)\n",
    "\n",
    "# Initialize the generator's weights with seed_R\n",
    "generator.W.weight.data.copy_(torch.tensor(seed_R, dtype=torch.float32).to(device))\n",
    "print(\"Generator initialized with seed-based mapping.\")\n",
    "\n",
    "# Run adversarial training using the seeded generator\n",
    "trained_generator = adversarial_train_loop(\n",
    "    src_embeddings=en_embeddings,\n",
    "    tgt_embeddings=hi_embeddings,\n",
    "    generator=generator,  # use the seeded generator here\n",
    "    discriminator=discriminator,\n",
    "    num_epochs=40,\n",
    "    batch_size=256,\n",
    "    d_steps=3,\n",
    "    lr_g=0.01,\n",
    "    lr_d=0.05\n",
    ")"
   ]
  },
  {
   "cell_type": "code",
   "execution_count": 34,
   "id": "87a4c507-94d1-4706-b1cf-438c00ba3bee",
   "metadata": {},
   "outputs": [],
   "source": [
    "def get_csls_sim_matrix(src_embeds, tgt_embeds, k=10):\n",
    "    \"\"\"\n",
    "    Computes CSLS-adjusted similarity matrix between two sets of normalized embeddings.\n",
    "    \"\"\"\n",
    "    src_embeds = src_embeds / src_embeds.norm(dim=1, keepdim=True)\n",
    "    tgt_embeds = tgt_embeds / tgt_embeds.norm(dim=1, keepdim=True)\n",
    "\n",
    "    sim_matrix = torch.matmul(src_embeds, tgt_embeds.T)\n",
    "\n",
    "    # Safe k (in case k > vocab size)\n",
    "    k = min(k, tgt_embeds.shape[0], src_embeds.shape[0])\n",
    "\n",
    "    r_src = sim_matrix.topk(k, dim=1)[0].mean(dim=1, keepdim=True)\n",
    "    r_tgt = sim_matrix.topk(k, dim=0)[0].mean(dim=0, keepdim=True)\n",
    "\n",
    "    return 2 * sim_matrix - r_src - r_tgt"
   ]
  },
  {
   "cell_type": "code",
   "execution_count": 35,
   "id": "41bec19c-59e7-4576-8044-be43b917e475",
   "metadata": {},
   "outputs": [],
   "source": [
    "def evaluate_unsupervised_csls_with_dictionary(generator, en_model, hi_model, test_pairs, top_k=[1, 5], max_vocab=5000):\n",
    "    \"\"\"\n",
    "    Evaluates the unsupervised alignment using CSLS and a bilingual test dictionary.\n",
    "    \n",
    "    Args:\n",
    "        generator: The trained generator (mapping W).\n",
    "        en_model: The FastText English model.\n",
    "        hi_model: The FastText Hindi model.\n",
    "        test_pairs (List[Tuple[str, str]]): A list of (en_word, hi_word) pairs for evaluation.\n",
    "        top_k (List[int]): The top-k values for precision evaluation.\n",
    "        max_vocab (int): Number of test pairs to evaluate.\n",
    "        \n",
    "    Returns:\n",
    "        Dict[int, float]: Precision@k scores.\n",
    "    \"\"\"\n",
    "    correct_at_k = {k: 0 for k in top_k}\n",
    "    total = 0\n",
    "    \n",
    "    # Get a subset of Hindi vocabulary for retrieval\n",
    "    hi_subset = hi_model.get_words(include_freq=False)[:max_vocab]\n",
    "    hi_vectors = np.array([hi_model.get_word_vector(w) for w in hi_subset])\n",
    "    hi_vectors = hi_vectors / np.linalg.norm(hi_vectors, axis=1, keepdims=True)\n",
    "    hi_tensor = torch.tensor(hi_vectors, dtype=torch.float32).to(device)\n",
    "    \n",
    "    for en_word, hi_word in test_pairs[:max_vocab]:\n",
    "        # Get normalized English vector and map it using the generator\n",
    "        en_vec = en_model.get_word_vector(en_word)\n",
    "        en_vec = en_vec / np.linalg.norm(en_vec)\n",
    "        en_vec_tensor = torch.tensor(en_vec, dtype=torch.float32).unsqueeze(0).to(device)\n",
    "        \n",
    "        with torch.no_grad():\n",
    "            mapped_vec = generator(en_vec_tensor)\n",
    "        mapped_vec_norm = mapped_vec / mapped_vec.norm(dim=1, keepdim=True)\n",
    "        \n",
    "        # Compute CSLS similarity\n",
    "        csls_sim = get_csls_sim_matrix(mapped_vec_norm, hi_tensor, k=10)\n",
    "        top_indices = torch.topk(csls_sim, k=max(top_k), dim=1)[1].cpu().numpy()[0]\n",
    "        predictions = [hi_subset[idx] for idx in top_indices]\n",
    "        \n",
    "        for k_val in top_k:\n",
    "            if hi_word in predictions[:k_val]:\n",
    "                correct_at_k[k_val] += 1\n",
    "        total += 1\n",
    "\n",
    "    precision = {k: correct_at_k[k] / total for k in top_k}\n",
    "    return precision"
   ]
  },
  {
   "cell_type": "code",
   "execution_count": 36,
   "id": "e701817e-7049-4fee-8538-5953e0d1f65c",
   "metadata": {},
   "outputs": [
    {
     "name": "stdout",
     "output_type": "stream",
     "text": [
      "[UNSUPERVISED CSLS with dictionary] Precision@1: 0.0002\n",
      "[UNSUPERVISED CSLS with dictionary] Precision@5: 0.0006\n"
     ]
    }
   ],
   "source": [
    "unsup_scores = evaluate_unsupervised_csls_with_dictionary(\n",
    "    generator=trained_generator,\n",
    "    en_model=en_model,\n",
    "    hi_model=hi_model,\n",
    "    test_pairs=en_hi_pairs,\n",
    "    top_k=[1, 5],\n",
    "    max_vocab=5000  # or even 1000 while testing\n",
    ")\n",
    "\n",
    "print(f\"[UNSUPERVISED CSLS with dictionary] Precision@1: {unsup_scores[1]:.4f}\")\n",
    "print(f\"[UNSUPERVISED CSLS with dictionary] Precision@5: {unsup_scores[5]:.4f}\")"
   ]
  },
  {
   "cell_type": "markdown",
   "id": "f9dbff0b-b40e-4629-8320-3da89cd8f569",
   "metadata": {},
   "source": [
    "Over 40 epochs, adversarial training achieved stable losses with the discriminator and generator losses balanced around 1.2–1.6, indicating a balanced adversarial game. However, CSLS evaluation yields extremely low precision, showing that the initial unsupervised mapping does not align the English and Hindi embeddings well. This suggests that, despite stable training, the raw adversarial output is insufficient for meaningful cross-lingual alignment, especially for distant language pairs. Consequently, further refinement via iterative MNN and Procrustes analysis is necessary to improve the mapping quality."
   ]
  },
  {
   "cell_type": "code",
   "execution_count": 38,
   "id": "2347e0a7-eb59-41c6-be26-780f235aa5ad",
   "metadata": {},
   "outputs": [],
   "source": [
    "def iterative_refinement_with_procrustes(generator, en_model, hi_model, en_vocab, hi_vocab, \n",
    "                                               num_iterations=5, max_vocab=50000):\n",
    "    \"\"\"\n",
    "    Iteratively refines the mapping using mutual nearest neighbors (MNN) and\n",
    "    align_embeddings function (which applies Procrustes).\n",
    "    \n",
    "    Args:\n",
    "        generator (nn.Module): Trained generator (mapping) from adversarial training.\n",
    "        en_model: Pretrained FastText English model.\n",
    "        hi_model: Pretrained FastText Hindi model.\n",
    "        en_vocab (List[str]): List of English words.\n",
    "        hi_vocab (List[str]): List of Hindi words.\n",
    "        num_iterations (int): Number of refinement iterations.\n",
    "        max_vocab (int): Number of most frequent words to use.\n",
    "    \n",
    "    Returns:\n",
    "        np.ndarray: The refined rotation matrix.\n",
    "    \"\"\"\n",
    "    # Start with the current mapping from the generator as a NumPy array.\n",
    "    refined_R = generator.W.weight.data.cpu().numpy()  # shape: (d, d)\n",
    "    \n",
    "    for iteration in range(num_iterations):\n",
    "        print(f\"Refinement Iteration {iteration+1}/{num_iterations}\")\n",
    "        \n",
    "        # Step 1: Get top max_vocab English embeddings and normalize them.\n",
    "        en_vecs = np.array([en_model.get_word_vector(w) for w in en_vocab[:max_vocab]])\n",
    "        en_vecs_norm = en_vecs / np.linalg.norm(en_vecs, axis=1, keepdims=True)\n",
    "        \n",
    "        # Apply the current mapping to get aligned English embeddings.\n",
    "        mapped_en = np.dot(en_vecs_norm, refined_R)\n",
    "        \n",
    "        # Step 2: Get top max_vocab Hindi embeddings and normalize.\n",
    "        hi_vecs = np.array([hi_model.get_word_vector(w) for w in hi_vocab[:max_vocab]])\n",
    "        hi_vecs_norm = hi_vecs / np.linalg.norm(hi_vecs, axis=1, keepdims=True)\n",
    "        \n",
    "        # Step 3: Compute cosine similarity between mapped English and Hindi embeddings.\n",
    "        sim_matrix = np.dot(mapped_en, hi_vecs_norm.T)\n",
    "        src2tgt = np.argmax(sim_matrix, axis=1)   # For each English word, best Hindi match.\n",
    "        tgt2src = np.argmax(sim_matrix.T, axis=1)   # For each Hindi word, best English match.\n",
    "        \n",
    "        # Step 4: Build the pseudo-dictionary of mutual nearest neighbors (MNN).\n",
    "        mnn_pairs = []\n",
    "        for i, j in enumerate(src2tgt):\n",
    "            if tgt2src[j] == i:\n",
    "                mnn_pairs.append((en_vocab[i], hi_vocab[j]))\n",
    "        print(f\"Found {len(mnn_pairs)} MNN pairs.\")\n",
    "        \n",
    "        # If too few MNN pairs are found, stop refinement.\n",
    "        if len(mnn_pairs) < 100:\n",
    "            print(\"Too few MNN pairs found; stopping refinement.\")\n",
    "            break\n",
    "        \n",
    "        # Step 5: Extract vectors for the MNN pairs.\n",
    "        src_vectors = np.array([en_model.get_word_vector(en_word) for en_word, _ in mnn_pairs])\n",
    "        tgt_vectors = np.array([hi_model.get_word_vector(hi_word) for _, hi_word in mnn_pairs])\n",
    "        # Normalize these vectors.\n",
    "        src_vectors_norm = src_vectors / np.linalg.norm(src_vectors, axis=1, keepdims=True)\n",
    "        tgt_vectors_norm = tgt_vectors / np.linalg.norm(tgt_vectors, axis=1, keepdims=True)\n",
    "        \n",
    "        # Step 6: Use align_embeddings function to compute a new rotation matrix.\n",
    "        _, new_R = align_embeddings(src_vectors_norm, tgt_vectors_norm)\n",
    "        print(f\"New rotation matrix computed in iteration {iteration+1}.\")\n",
    "        \n",
    "        # Step 7: Update the overall mapping by composing the new rotation with the current mapping.\n",
    "        refined_R = np.dot(new_R, refined_R)\n",
    "    \n",
    "    return refined_R"
   ]
  },
  {
   "cell_type": "code",
   "execution_count": 39,
   "id": "f65345ea-96a8-4e54-acb8-6d942d175bcb",
   "metadata": {},
   "outputs": [
    {
     "name": "stdout",
     "output_type": "stream",
     "text": [
      "Refinement Iteration 1/5\n",
      "Found 3703 MNN pairs.\n",
      "New rotation matrix computed in iteration 1.\n",
      "Refinement Iteration 2/5\n",
      "Found 7183 MNN pairs.\n",
      "New rotation matrix computed in iteration 2.\n",
      "Refinement Iteration 3/5\n",
      "Found 10973 MNN pairs.\n",
      "New rotation matrix computed in iteration 3.\n",
      "Refinement Iteration 4/5\n",
      "Found 10652 MNN pairs.\n",
      "New rotation matrix computed in iteration 4.\n",
      "Refinement Iteration 5/5\n",
      "Found 10834 MNN pairs.\n",
      "New rotation matrix computed in iteration 5.\n"
     ]
    },
    {
     "data": {
      "text/plain": [
       "tensor([[ 0.0528,  0.0539,  0.0631,  ..., -0.0608,  0.0132,  0.0237],\n",
       "        [-0.0584,  0.0446, -0.0330,  ..., -0.0451, -0.0269,  0.0165],\n",
       "        [ 0.0438, -0.0222, -0.1094,  ...,  0.0382, -0.1137, -0.0370],\n",
       "        ...,\n",
       "        [ 0.0206,  0.0775,  0.1086,  ...,  0.0837,  0.0109,  0.0214],\n",
       "        [-0.0442,  0.0555,  0.1032,  ...,  0.0604, -0.0049,  0.0162],\n",
       "        [ 0.0225,  0.0578, -0.0399,  ..., -0.0379,  0.0254,  0.0091]])"
      ]
     },
     "execution_count": 39,
     "metadata": {},
     "output_type": "execute_result"
    }
   ],
   "source": [
    "# Run iterative refinement.\n",
    "refined_R = iterative_refinement_with_procrustes(\n",
    "    generator=trained_generator,\n",
    "    en_model=en_model,\n",
    "    hi_model=hi_model,\n",
    "    en_vocab=en_vocab,\n",
    "    hi_vocab=hi_vocab,\n",
    "    num_iterations=5,\n",
    "    max_vocab=50000\n",
    ")\n",
    "\n",
    "# Update generator weight.\n",
    "trained_generator.W.weight.data.copy_(torch.tensor(refined_R, dtype=torch.float32).to(device))"
   ]
  },
  {
   "cell_type": "code",
   "execution_count": 40,
   "id": "f2a950cd-cb8b-4e4d-8dda-1a7cf2f66df0",
   "metadata": {},
   "outputs": [
    {
     "name": "stdout",
     "output_type": "stream",
     "text": [
      "[Unsupervised + Refined] Precision@1: 0.0000\n",
      "[Unsupervised + Refined] Precision@5: 0.0004\n"
     ]
    }
   ],
   "source": [
    "unsup_refined_scores = evaluate_unsupervised_csls_with_dictionary(\n",
    "    generator=trained_generator,\n",
    "    en_model=en_model,\n",
    "    hi_model=hi_model,\n",
    "    test_pairs=filtered_test_pairs,\n",
    "    top_k=[1, 5],\n",
    "    max_vocab=5000\n",
    ")\n",
    "\n",
    "print(f\"[Unsupervised + Refined] Precision@1: {unsup_refined_scores[1]:.4f}\")\n",
    "print(f\"[Unsupervised + Refined] Precision@5: {unsup_refined_scores[5]:.4f}\")"
   ]
  },
  {
   "cell_type": "markdown",
   "id": "312a98fb-0451-460c-bf59-c723d1de3da8",
   "metadata": {},
   "source": [
    "Over 40 epochs, the adversarial training produced stable losses, yet the CSLS evaluation of the unsupervised mapping (both raw and refined) yields extremely low precision (Precision@1: 0.0000, Precision@5: 0.0004). This indicates that, for a distant language pair like English–Hindi, the unsupervised method—despite balanced losses—fails to capture sufficient cross-lingual signals compared to the supervised baseline. The weak performance likely stems from the inherent difficulty of aligning independent monolingual embeddings without strong bilingual signals, and may require further hyperparameter tuning, more robust iterative refinement, or even a semi-supervised approach to improve alignment quality."
   ]
  },
  {
   "cell_type": "code",
   "execution_count": null,
   "id": "4640e7f0-cb2d-4108-8386-e7b12d425a2f",
   "metadata": {},
   "outputs": [],
   "source": []
  }
 ],
 "metadata": {
  "kernelspec": {
   "display_name": "Python [conda env:base] *",
   "language": "python",
   "name": "conda-base-py"
  },
  "language_info": {
   "codemirror_mode": {
    "name": "ipython",
    "version": 3
   },
   "file_extension": ".py",
   "mimetype": "text/x-python",
   "name": "python",
   "nbconvert_exporter": "python",
   "pygments_lexer": "ipython3",
   "version": "3.12.7"
  }
 },
 "nbformat": 4,
 "nbformat_minor": 5
}
